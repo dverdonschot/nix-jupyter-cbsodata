{
 "cells": [
  {
   "cell_type": "code",
   "execution_count": 2,
   "id": "ca816814-23f6-42f9-a93a-96736ad4b87b",
   "metadata": {},
   "outputs": [],
   "source": [
    "import cbsodata\n",
    "import pandas\n",
    "import seaborn as sns"
   ]
  },
  {
   "cell_type": "code",
   "execution_count": null,
   "id": "187c6383-8272-413b-a6d3-781c213f6750",
   "metadata": {},
   "outputs": [],
   "source": [
    "# Datasets:\n",
    "economy = pandas.DataFrame(cbsodata.get_data('85828NED'))\n",
    "info = cbsodata.get_info('85828NED')\n",
    "print(\"title: \" + info['Title'] + \"\\nLast Modified: \" + info['Modified'])"
   ]
  }
 ],
 "metadata": {
  "kernelspec": {
   "display_name": "Python 3 (ipykernel)",
   "language": "python",
   "name": "python3"
  },
  "language_info": {
   "codemirror_mode": {
    "name": "ipython",
    "version": 3
   },
   "file_extension": ".py",
   "mimetype": "text/x-python",
   "name": "python",
   "nbconvert_exporter": "python",
   "pygments_lexer": "ipython3",
   "version": "3.12.9"
  }
 },
 "nbformat": 4,
 "nbformat_minor": 5
}
